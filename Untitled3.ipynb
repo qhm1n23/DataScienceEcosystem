{
  "nbformat": 4,
  "nbformat_minor": 0,
  "metadata": {
    "colab": {
      "provenance": [],
      "authorship_tag": "ABX9TyMacc4CMeZPdl+dor32jO81",
      "include_colab_link": true
    },
    "kernelspec": {
      "name": "python3",
      "display_name": "Python 3"
    },
    "language_info": {
      "name": "python"
    }
  },
  "cells": [
    {
      "cell_type": "markdown",
      "metadata": {
        "id": "view-in-github",
        "colab_type": "text"
      },
      "source": [
        "<a href=\"https://colab.research.google.com/github/qhm1n23/DataScienceEcosystem/blob/main/Untitled3.ipynb\" target=\"_parent\"><img src=\"https://colab.research.google.com/assets/colab-badge.svg\" alt=\"Open In Colab\"/></a>"
      ]
    },
    {
      "cell_type": "code",
      "source": [
        "import numpy as np\n",
        "import matplotlib.pyplot as plt\n",
        "import copy\n",
        "import math\n",
        "import pandas as pd\n",
        "%matplotlib inline\n"
      ],
      "metadata": {
        "id": "UH8zCx3QkOXD"
      },
      "execution_count": 1,
      "outputs": []
    },
    {
      "cell_type": "code",
      "execution_count": 2,
      "metadata": {
        "colab": {
          "base_uri": "https://localhost:8080/"
        },
        "id": "puotlCskjsWa",
        "outputId": "97f3f0a1-abee-4846-ae64-1090b8d6d53f"
      },
      "outputs": [
        {
          "output_type": "stream",
          "name": "stdout",
          "text": [
            "Drive already mounted at /content/drive; to attempt to forcibly remount, call drive.mount(\"/content/drive\", force_remount=True).\n"
          ]
        }
      ],
      "source": [
        "from google.colab import drive\n",
        "drive.mount('/content/drive')"
      ]
    },
    {
      "cell_type": "code",
      "source": [
        "file_path = '/content/drive/My Drive/DATA.csv'\n",
        "df = pd.read_csv(file_path)"
      ],
      "metadata": {
        "id": "iTa6vgnQj-mT"
      },
      "execution_count": 3,
      "outputs": []
    },
    {
      "cell_type": "code",
      "source": [
        "def load_data(df):\n",
        "    # Convert the DataFrame to a NumPy array\n",
        "    data = df.to_numpy()\n",
        "    X = data[:,:2]\n",
        "    y = data[:,2]\n",
        "    return X, y"
      ],
      "metadata": {
        "id": "v4wCoxdXkM_j"
      },
      "execution_count": 4,
      "outputs": []
    },
    {
      "cell_type": "code",
      "source": [
        "# load dataset\n",
        "X_train, y_train = load_data(df)"
      ],
      "metadata": {
        "id": "r8Y_msvHk1fD"
      },
      "execution_count": 5,
      "outputs": []
    },
    {
      "cell_type": "code",
      "source": [
        "print(\"First five elements in X_train are:\\n\", X_train[:5])\n",
        "print(\"Type of X_train:\",type(X_train))"
      ],
      "metadata": {
        "colab": {
          "base_uri": "https://localhost:8080/"
        },
        "id": "IMsIObcgk6dE",
        "outputId": "c47cbc72-8c66-4717-fcd8-9229ef8580a7"
      },
      "execution_count": 6,
      "outputs": [
        {
          "output_type": "stream",
          "name": "stdout",
          "text": [
            "First five elements in X_train are:\n",
            " [[30.28671077 43.89499752]\n",
            " [35.84740877 72.90219803]\n",
            " [60.18259939 86.3085521 ]\n",
            " [79.03273605 75.34437644]\n",
            " [45.08327748 56.31637178]]\n",
            "Type of X_train: <class 'numpy.ndarray'>\n"
          ]
        }
      ]
    },
    {
      "cell_type": "code",
      "source": [
        "print(\"First five elements in y_train are:\\n\", y_train[:5])\n",
        "print(\"Type of y_train:\",type(y_train))"
      ],
      "metadata": {
        "colab": {
          "base_uri": "https://localhost:8080/"
        },
        "id": "tYQ8jEzXlRh7",
        "outputId": "73055bbd-661c-469e-928d-82ea7fab0a19"
      },
      "execution_count": 7,
      "outputs": [
        {
          "output_type": "stream",
          "name": "stdout",
          "text": [
            "First five elements in y_train are:\n",
            " [0. 0. 1. 1. 0.]\n",
            "Type of y_train: <class 'numpy.ndarray'>\n"
          ]
        }
      ]
    },
    {
      "cell_type": "code",
      "source": [
        "print ('The shape of X_train is: ' + str(X_train.shape))\n",
        "print ('The shape of y_train is: ' + str(y_train.shape))\n",
        "print ('We have m = %d training examples' % (len(y_train)))"
      ],
      "metadata": {
        "colab": {
          "base_uri": "https://localhost:8080/"
        },
        "id": "HpKrlZLUmcu1",
        "outputId": "4d82ac67-3fd2-4de0-f226-6a48f30f2d6f"
      },
      "execution_count": 8,
      "outputs": [
        {
          "output_type": "stream",
          "name": "stdout",
          "text": [
            "The shape of X_train is: (99, 2)\n",
            "The shape of y_train is: (99,)\n",
            "We have m = 99 training examples\n"
          ]
        }
      ]
    },
    {
      "cell_type": "code",
      "source": [
        "def plot_data(X, y, pos_label=\"y=1\", neg_label=\"y=0\"):\n",
        "    positive = y == 1\n",
        "    negative = y == 0\n",
        "    plt.plot(X[positive, 0], X[positive, 1], 'k+', label=pos_label)\n",
        "    plt.plot(X[negative, 0], X[negative, 1], 'yo', label=neg_label)"
      ],
      "metadata": {
        "id": "1qfDswIum-4A"
      },
      "execution_count": 9,
      "outputs": []
    },
    {
      "cell_type": "code",
      "source": [
        "plot_data(X_train, y_train[:], pos_label=\"Admitted\", neg_label=\"Not admitted\")\n",
        "plt.ylabel('Exam 2 score')\n",
        "plt.xlabel('Exam 1 score')\n",
        "plt.legend(loc=\"upper right\")\n",
        "plt.show()"
      ],
      "metadata": {
        "colab": {
          "base_uri": "https://localhost:8080/",
          "height": 449
        },
        "id": "q10P4_lzn5BB",
        "outputId": "80b1e7df-c4df-4a92-ba05-3747d2797949"
      },
      "execution_count": 10,
      "outputs": [
        {
          "output_type": "display_data",
          "data": {
            "text/plain": [
              "<Figure size 640x480 with 1 Axes>"
            ],
            "image/png": "[encoded data removed]"
          },
          "metadata": {}
        }
      ]
    },
    {
      "cell_type": "code",
      "source": [
        "def sigmoid(z):\n",
        "    g = 1 / (1 + np.exp(-z))\n",
        "    return g"
      ],
      "metadata": {
        "id": "gGi5bxWBn79Z"
      },
      "execution_count": 11,
      "outputs": []
    },
    {
      "cell_type": "code",
      "source": [
        "value = 0\n",
        "print (f\"sigmoid({value}) = {sigmoid(value)}\")"
      ],
      "metadata": {
        "colab": {
          "base_uri": "https://localhost:8080/"
        },
        "id": "Lhcvcm6moAPy",
        "outputId": "4c203b52-1869-4025-8af1-69202da9842a"
      },
      "execution_count": 12,
      "outputs": [
        {
          "output_type": "stream",
          "name": "stdout",
          "text": [
            "sigmoid(0) = 0.5\n"
          ]
        }
      ]
    },
    {
      "cell_type": "code",
      "source": [
        "print (\"sigmoid([ -1, 0, 1, 2]) = \" + str(sigmoid(np.array([-1, 0, 1, 2]))))"
      ],
      "metadata": {
        "colab": {
          "base_uri": "https://localhost:8080/"
        },
        "id": "ozw4PoWXoCtf",
        "outputId": "08b43b72-0750-40ba-e08a-833e33b90c47"
      },
      "execution_count": 13,
      "outputs": [
        {
          "output_type": "stream",
          "name": "stdout",
          "text": [
            "sigmoid([ -1, 0, 1, 2]) = [0.26894142 0.5        0.73105858 0.88079708]\n"
          ]
        }
      ]
    },
    {
      "cell_type": "code",
      "source": [
        "def compute_cost(X, y, w, b, *argv):\n",
        "    m, n = X.shape\n",
        "    loss_sum = 0\n",
        "    for i in range(m):\n",
        "        z_wb = 0\n",
        "        for j in range(n):\n",
        "            z_wb_ij = w[j] * X[i][j]\n",
        "            z_wb += z_wb_ij\n",
        "        z_wb += b\n",
        "        f_wb = sigmoid(z_wb)\n",
        "        loss =  -y[i] * np.log(f_wb) - (1 - y[i]) * np.log(1 - f_wb)\n",
        "        loss_sum += loss\n",
        "    total_cost = (1 / m) * loss_sum\n",
        "    return total_cost"
      ],
      "metadata": {
        "id": "UQR4DwP4oHR8"
      },
      "execution_count": 14,
      "outputs": []
    },
    {
      "cell_type": "code",
      "source": [
        "m, n = X_train.shape\n",
        "initial_w = np.zeros(n)\n",
        "initial_b = 0.\n",
        "cost = compute_cost(X_train, y_train, initial_w, initial_b)\n",
        "print('Cost at initial w and b (zeros): {:.3f}'.format(cost))"
      ],
      "metadata": {
        "colab": {
          "base_uri": "https://localhost:8080/"
        },
        "id": "5lxMMqSMod47",
        "outputId": "da44ccb5-b753-4cef-a1e9-d91051aeda63"
      },
      "execution_count": 15,
      "outputs": [
        {
          "output_type": "stream",
          "name": "stdout",
          "text": [
            "Cost at initial w and b (zeros): 0.693\n"
          ]
        }
      ]
    },
    {
      "cell_type": "code",
      "source": [
        "test_w = np.array([0.2, 0.2])\n",
        "test_b = -24.\n",
        "cost = compute_cost(X_train, y_train, test_w, test_b)\n",
        "\n",
        "print('Cost at test w and b (non-zeros): {:.3f}'.format(cost))"
      ],
      "metadata": {
        "colab": {
          "base_uri": "https://localhost:8080/"
        },
        "id": "6pgbHni1ohU4",
        "outputId": "3b081f72-af20-41fb-ddcf-00aaa0b55142"
      },
      "execution_count": 16,
      "outputs": [
        {
          "output_type": "stream",
          "name": "stdout",
          "text": [
            "Cost at test w and b (non-zeros): 0.218\n"
          ]
        }
      ]
    },
    {
      "cell_type": "code",
      "source": [
        "def compute_gradient(X, y, w, b, *argv):\n",
        "    m, n = X.shape\n",
        "    dj_dw = np.zeros(w.shape)\n",
        "    dj_db = 0.\n",
        "    for i in range(m):\n",
        "        z_wb = 0\n",
        "        for j in range(n):\n",
        "            z_wb_ij = X[i, j] * w[j]\n",
        "            z_wb += z_wb_ij\n",
        "        z_wb += b\n",
        "        f_wb = sigmoid(z_wb)\n",
        "        dj_db_i = f_wb - y[i]\n",
        "        dj_db += dj_db_i\n",
        "        for j in range(n):\n",
        "            dj_dw_ij = (f_wb - y[i]) * X[i][j]\n",
        "            dj_dw[j] += dj_dw_ij\n",
        "    dj_dw = dj_dw / m\n",
        "    dj_db = dj_db / m\n",
        "    return dj_db, dj_dw"
      ],
      "metadata": {
        "id": "MP5TBGcyozRs"
      },
      "execution_count": 17,
      "outputs": []
    },
    {
      "cell_type": "code",
      "source": [
        "initial_w = np.zeros(n)\n",
        "initial_b = 0.\n",
        "\n",
        "dj_db, dj_dw = compute_gradient(X_train, y_train, initial_w, initial_b)\n",
        "print(f'dj_db at initial w and b (zeros):{dj_db}' )\n",
        "print(f'dj_dw at initial w and b (zeros):{dj_dw.tolist()}' )"
      ],
      "metadata": {
        "colab": {
          "base_uri": "https://localhost:8080/"
        },
        "id": "fx5R_jlTpAUM",
        "outputId": "7c059cd1-3a50-42ba-c93d-8cd79d6e3a3c"
      },
      "execution_count": 18,
      "outputs": [
        {
          "output_type": "stream",
          "name": "stdout",
          "text": [
            "dj_db at initial w and b (zeros):-0.10606060606060606\n",
            "dj_dw at initial w and b (zeros):[-12.305388775151515, -11.770672393535351]\n"
          ]
        }
      ]
    },
    {
      "cell_type": "code",
      "source": [
        "test_w = np.array([ 0.2, -0.5])\n",
        "test_b = -24\n",
        "dj_db, dj_dw  = compute_gradient(X_train, y_train, test_w, test_b)\n",
        "\n",
        "print('dj_db at test w and b:', dj_db)\n",
        "print('dj_dw at test w and b:', dj_dw.tolist())\n"
      ],
      "metadata": {
        "colab": {
          "base_uri": "https://localhost:8080/"
        },
        "id": "fTHr6aKCpC-x",
        "outputId": "f7ca1882-2dd4-43ab-ebf4-52d2c06d8d38"
      },
      "execution_count": 19,
      "outputs": [
        {
          "output_type": "stream",
          "name": "stdout",
          "text": [
            "dj_db at test w and b: -0.6060606060597041\n",
            "dj_dw at test w and b: [-45.284195573859655, -44.82206186835121]\n"
          ]
        }
      ]
    },
    {
      "cell_type": "code",
      "source": [
        "def gradient_descent(X, y, w_in, b_in, cost_function, gradient_function, alpha, num_iters, lambda_):\n",
        "  m = len(X)\n",
        "  J_history = []\n",
        "  w_history = []\n",
        "\n",
        "  for i in range(num_iters):\n",
        "    dj_db, dj_dw = gradient_function(X, y, w_in, b_in, lambda_)\n",
        "    w_in = w_in - alpha * dj_dw\n",
        "    b_in = b_in - alpha * dj_db\n",
        "\n",
        "    if i<100000:\n",
        "      cost =  cost_function(X, y, w_in, b_in, lambda_)\n",
        "      J_history.append(cost)\n",
        "\n",
        "    if i% math.ceil(num_iters/10) == 0 or i == (num_iters-1):\n",
        "      w_history.append(w_in)\n",
        "      print(f\"Iteration {i:4}: Cost {float(J_history[-1]):8.2f}   \")\n",
        "\n",
        "  return w_in, b_in, J_history, w_history"
      ],
      "metadata": {
        "id": "mb131uqspJzF"
      },
      "execution_count": 20,
      "outputs": []
    },
    {
      "cell_type": "code",
      "source": [
        "np.random.seed(1)\n",
        "initial_w = 0.01 * (np.random.rand(2) - 0.5)\n",
        "initial_b = -8\n",
        "iterations = 10000\n",
        "alpha = 0.001\n",
        "w,b, J_history,_ = gradient_descent(X_train ,y_train, initial_w, initial_b,\n",
        "                                   compute_cost, compute_gradient, alpha, iterations, 0)"
      ],
      "metadata": {
        "colab": {
          "base_uri": "https://localhost:8080/"
        },
        "id": "3KaYrABhpnQY",
        "outputId": "c5701c6c-b2b8-4290-b876-c3bae8c79dc5"
      },
      "execution_count": 21,
      "outputs": [
        {
          "output_type": "stream",
          "name": "stdout",
          "text": [
            "Iteration    0: Cost     0.94   \n",
            "Iteration 1000: Cost     0.30   \n",
            "Iteration 2000: Cost     0.30   \n",
            "Iteration 3000: Cost     0.30   \n",
            "Iteration 4000: Cost     0.30   \n",
            "Iteration 5000: Cost     0.30   \n",
            "Iteration 6000: Cost     0.30   \n",
            "Iteration 7000: Cost     0.30   \n",
            "Iteration 8000: Cost     0.30   \n",
            "Iteration 9000: Cost     0.30   \n",
            "Iteration 9999: Cost     0.30   \n"
          ]
        }
      ]
    },
    {
      "cell_type": "code",
      "source": [
        "def plot_decision_boundary(w, b, X, y):\n",
        "    plot_data(X[:, 0:2], y)\n",
        "    if X.shape[1] <= 2:\n",
        "        plot_x = np.array([min(X[:, 0]), max(X[:, 0])])\n",
        "        plot_y = (-1. / w[1]) * (w[0] * plot_x + b)\n",
        "        plt.plot(plot_x, plot_y, c=\"b\")\n",
        "    else:\n",
        "        u = np.linspace(-1, 1.5, 50)\n",
        "        v = np.linspace(-1, 1.5, 50)\n",
        "        z = np.zeros((len(u), len(v)))\n",
        "        for i in range(len(u)):\n",
        "            for j in range(len(v)):\n",
        "                z[i,j] = sig(np.dot(map_feature(u[i], v[j]), w) + b)\n",
        "        z = z.T\n",
        "        plt.contour(u,v,z, levels = [0.5], colors=\"g\")"
      ],
      "metadata": {
        "id": "PFQRDQ_rpr4n"
      },
      "execution_count": 22,
      "outputs": []
    },
    {
      "cell_type": "code",
      "source": [
        "plot_decision_boundary(w, b, X_train, y_train)\n",
        "plt.ylabel('Exam 2 score')\n",
        "plt.xlabel('Exam 1 score')\n",
        "plt.legend(loc=\"upper right\")\n",
        "plt.show()"
      ],
      "metadata": {
        "colab": {
          "base_uri": "https://localhost:8080/",
          "height": 449
        },
        "id": "o-PtYuMypysi",
        "outputId": "89c435a6-54e8-4539-9ee7-af37bb21a265"
      },
      "execution_count": 23,
      "outputs": [
        {
          "output_type": "display_data",
          "data": {
            "text/plain": [
              "<Figure size 640x480 with 1 Axes>"
            ],
            "image/png": "[encoded data removed]"
          },
          "metadata": {}
        }
      ]
    },
    {
      "cell_type": "code",
      "source": [
        "def predict(X, w, b):\n",
        "    m, n = X.shape\n",
        "    p = np.zeros(m)\n",
        "    for i in range(m):\n",
        "        z_wb = 0\n",
        "\n",
        "        for j in range(n):\n",
        "            z_wb_ij = X[i, j] * w[j]\n",
        "            z_wb += z_wb_ij\n",
        "        z_wb += b\n",
        "        f_wb = sigmoid(z_wb)\n",
        "        p[i] = f_wb >= 0.5\n",
        "    return p"
      ],
      "metadata": {
        "id": "419Qg_Wgp04P"
      },
      "execution_count": 24,
      "outputs": []
    },
    {
      "cell_type": "code",
      "source": [
        "np.random.seed(1)\n",
        "tmp_w = np.random.randn(2)\n",
        "tmp_b = 0.3\n",
        "tmp_X = np.random.randn(4, 2) - 0.5\n",
        "tmp_p = predict(tmp_X, tmp_w, tmp_b)\n",
        "print(f'Output of predict: shape {tmp_p.shape}, value {tmp_p}')"
      ],
      "metadata": {
        "colab": {
          "base_uri": "https://localhost:8080/"
        },
        "id": "3EyPJJ_-p4Rw",
        "outputId": "7ced4458-ce9e-49a7-8371-e8a55d77993e"
      },
      "execution_count": 25,
      "outputs": [
        {
          "output_type": "stream",
          "name": "stdout",
          "text": [
            "Output of predict: shape (4,), value [0. 1. 1. 1.]\n"
          ]
        }
      ]
    },
    {
      "cell_type": "code",
      "source": [
        "p = predict(X_train, w,b)\n",
        "print('Train Accuracy: %f%%' % (np.mean(p == y_train) * 100))"
      ],
      "metadata": {
        "colab": {
          "base_uri": "https://localhost:8080/"
        },
        "id": "Qs5BiNCjp7fr",
        "outputId": "ed7f6048-70ee-48bc-9f63-fbfd9ae0d964"
      },
      "execution_count": 27,
      "outputs": [
        {
          "output_type": "stream",
          "name": "stdout",
          "text": [
            "Train Accuracy: 91.919192%\n"
          ]
        }
      ]
    },
    {
      "cell_type": "code",
      "source": [],
      "metadata": {
        "id": "guSVg_L2p-X4"
      },
      "execution_count": null,
      "outputs": []
    }
  ]
}